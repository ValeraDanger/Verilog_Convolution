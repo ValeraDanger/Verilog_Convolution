{
  "nbformat": 4,
  "nbformat_minor": 0,
  "metadata": {
    "colab": {
      "provenance": []
    },
    "kernelspec": {
      "name": "python3",
      "display_name": "Python 3"
    },
    "language_info": {
      "name": "python"
    }
  },
  "cells": [
    {
      "cell_type": "code",
      "source": [
        "m = 3"
      ],
      "metadata": {
        "id": "6j1KHTiUB9tf"
      },
      "execution_count": null,
      "outputs": []
    },
    {
      "cell_type": "code",
      "execution_count": null,
      "metadata": {
        "id": "vAFuA4cyBvQt"
      },
      "outputs": [],
      "source": [
        "image = [\n",
        "    [1, 2, 3, 4],\n",
        "    [5, 6, 7, 8],\n",
        "    [9, 10, 11, 12]\n",
        "]"
      ]
    },
    {
      "cell_type": "code",
      "source": [
        "ker = [\n",
        "    [1, 0, 0],\n",
        "    [0, 0.0, 0.0],   #p, p - середина ядра\n",
        "    [0.0, 0.0, 0.0]\n",
        "]"
      ],
      "metadata": {
        "id": "oC5l7lqEC4DE"
      },
      "execution_count": null,
      "outputs": []
    },
    {
      "cell_type": "code",
      "source": [
        "def conv():\n",
        "  image_height = len(image)\n",
        "  image_width = len(image[0])\n",
        "\n",
        "  img_conv = [[0 for _ in range(image_width)] for _ in range(image_height)]\n",
        "\n",
        "  p = int(m/2)\n",
        "\n",
        "\n",
        "  for i in range(0, image_height):\n",
        "    for j in range(0, image_width):\n",
        "\n",
        "      sum = 0\n",
        "\n",
        "      for k in range(-p, p+1, 1):\n",
        "        for l in range(-p, p+1, 1):\n",
        "          if i+k >= 0 and i+k < image_height:\n",
        "            if j+l >=0 and j+l < image_width:\n",
        "              sum += image[i+k][j+l] * ker[p+k][p+l]\n",
        "\n",
        "      img_conv[i][j] = sum\n",
        "\n",
        "  return img_conv"
      ],
      "metadata": {
        "id": "RnrgmPHxClGy"
      },
      "execution_count": null,
      "outputs": []
    },
    {
      "cell_type": "code",
      "source": [
        "conv()"
      ],
      "metadata": {
        "colab": {
          "base_uri": "https://localhost:8080/"
        },
        "id": "6hDx76jYIpz7",
        "outputId": "a69d6513-bd20-4a5a-e5ee-940579b16261"
      },
      "execution_count": null,
      "outputs": [
        {
          "output_type": "execute_result",
          "data": {
            "text/plain": [
              "[[0.0, 0.0, 0.0, 0.0], [0.0, 1.0, 2.0, 3.0], [0.0, 5.0, 6.0, 7.0]]"
            ]
          },
          "metadata": {},
          "execution_count": 45
        }
      ]
    }
  ]
}